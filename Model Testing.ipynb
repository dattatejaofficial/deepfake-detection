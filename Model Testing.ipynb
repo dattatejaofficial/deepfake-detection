{
 "cells": [
  {
   "cell_type": "code",
   "execution_count": 1,
   "id": "74cbaaad",
   "metadata": {},
   "outputs": [],
   "source": [
    "import tensorflow as tf\n",
    "import numpy as np\n",
    "from tensorflow.keras.models import load_model\n",
    "from tensorflow.keras.preprocessing import image"
   ]
  },
  {
   "cell_type": "code",
   "execution_count": null,
   "id": "6249e36c",
   "metadata": {},
   "outputs": [],
   "source": [
    "model = load_model('model.keras')"
   ]
  },
  {
   "cell_type": "code",
   "execution_count": 3,
   "id": "05e2a083",
   "metadata": {},
   "outputs": [],
   "source": [
    "def predict_image(path):\n",
    "    img = image.load_img(path,target_size=(240,240))\n",
    "    img_array = image.img_to_array(img)\n",
    "    img_array = img_array/255.0\n",
    "    img_array = np.expand_dims(img_array,axis=0)\n",
    "\n",
    "\n",
    "    prediction = model.predict(img_array)[0][0]\n",
    "    if prediction >= 0.5:\n",
    "        print('Fake')\n",
    "    else:\n",
    "        print('Real')\n",
    "    \n",
    "    print(f'Prediction Score: {prediction}')"
   ]
  },
  {
   "cell_type": "code",
   "execution_count": 4,
   "id": "7b0566a7",
   "metadata": {},
   "outputs": [
    {
     "name": "stdout",
     "output_type": "stream",
     "text": [
      "\u001b[1m1/1\u001b[0m \u001b[32m━━━━━━━━━━━━━━━━━━━━\u001b[0m\u001b[37m\u001b[0m \u001b[1m8s\u001b[0m 8s/step\n",
      "Real\n",
      "Prediction Score: 0.011318922974169254\n"
     ]
    }
   ],
   "source": [
    "predict_image('./real image.jpg')"
   ]
  }
 ],
 "metadata": {
  "kernelspec": {
   "display_name": "venv",
   "language": "python",
   "name": "python3"
  },
  "language_info": {
   "codemirror_mode": {
    "name": "ipython",
    "version": 3
   },
   "file_extension": ".py",
   "mimetype": "text/x-python",
   "name": "python",
   "nbconvert_exporter": "python",
   "pygments_lexer": "ipython3",
   "version": "3.12.4"
  }
 },
 "nbformat": 4,
 "nbformat_minor": 5
}
